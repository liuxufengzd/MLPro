{
 "cells": [
  {
   "cell_type": "markdown",
   "source": [
    "### 1. Define source dataset and preprocess"
   ],
   "metadata": {
    "collapsed": false
   },
   "id": "e3922427eabbb623"
  },
  {
   "cell_type": "code",
   "outputs": [],
   "source": [
    "class Doc:\n",
    "    def __init__(self, content: str):\n",
    "        doc_arr = content.split(\" \")\n",
    "        self.doc_len = len(doc_arr)\n",
    "        self.doc_dict = dict.fromkeys(doc_arr, 0)\n",
    "        for word in doc_arr:\n",
    "            self.doc_dict[word] += 1\n",
    "        # Calculate term frequency(TF) \n",
    "        self.tf = {}\n",
    "        for word, count in self.doc_dict.items():\n",
    "            self.tf[word] = count / self.doc_len\n",
    "        self.tfidf = {}\n",
    "\n",
    "    def calc_tfidf(self, idf_dict: dict):\n",
    "        for word, tf in self.tf.items():\n",
    "            idf = idf_dict[word]\n",
    "            self.tfidf[word] = tf * idf\n",
    "\n",
    "\n",
    "docA = Doc(\"The cat sat on my bed\")\n",
    "docB = Doc(\"The dog sat on my knees\")\n",
    "docC = Doc(\"person sat on my head\")\n",
    "docs = [docA, docB, docC]"
   ],
   "metadata": {
    "collapsed": false,
    "ExecuteTime": {
     "end_time": "2024-06-02T04:55:18.165040Z",
     "start_time": "2024-06-02T04:55:18.160833Z"
    }
   },
   "id": "1d8ba0ee2a79481a",
   "execution_count": 29
  },
  {
   "cell_type": "code",
   "outputs": [
    {
     "name": "stdout",
     "output_type": "stream",
     "text": [
      "{'sat': 0.0, 'head': 0.3010299956639812, 'dog': 0.3010299956639812, 'on': 0.0, 'my': 0.0, 'person': 0.3010299956639812, 'knees': 0.3010299956639812, 'cat': 0.3010299956639812, 'bed': 0.3010299956639812, 'The': 0.12493873660829993}\n"
     ]
    }
   ],
   "source": [
    "from typing import List\n",
    "\n",
    "\n",
    "# Calculate inverse document frequency(IDF)\n",
    "def calc_idf(docs: List[Doc]) -> dict:\n",
    "    words = set()\n",
    "    for doc in docs:\n",
    "        words |= doc.doc_dict.keys()\n",
    "    word_show_dic = dict.fromkeys(words, 0)\n",
    "    for word in words:\n",
    "        for doc in docs:\n",
    "            if word in doc.doc_dict.keys():\n",
    "                word_show_dic[word] += 1\n",
    "    import math\n",
    "    n = len(docs)\n",
    "    idf = {}\n",
    "    for word in words:\n",
    "        idf[word] = math.log10((n + 1) / (word_show_dic[word] + 1))\n",
    "    return idf\n",
    "\n",
    "\n",
    "print(calc_idf(docs))"
   ],
   "metadata": {
    "collapsed": false,
    "ExecuteTime": {
     "end_time": "2024-06-02T04:55:22.420586Z",
     "start_time": "2024-06-02T04:55:22.416930Z"
    }
   },
   "id": "fb07287ca83f018b",
   "execution_count": 30
  },
  {
   "cell_type": "code",
   "outputs": [
    {
     "name": "stdout",
     "output_type": "stream",
     "text": [
      "{'The': 0.020823122768049988, 'cat': 0.050171665943996864, 'sat': 0.0, 'on': 0.0, 'my': 0.0, 'bed': 0.050171665943996864}\n",
      "{'The': 0.020823122768049988, 'dog': 0.050171665943996864, 'sat': 0.0, 'on': 0.0, 'my': 0.0, 'knees': 0.050171665943996864}\n",
      "{'person': 0.06020599913279624, 'sat': 0.0, 'on': 0.0, 'my': 0.0, 'head': 0.06020599913279624}\n"
     ]
    }
   ],
   "source": [
    "idf = calc_idf(docs)\n",
    "for doc in docs:\n",
    "    doc.calc_tfidf(idf)\n",
    "\n",
    "for doc in docs:\n",
    "    print(doc.tfidf)"
   ],
   "metadata": {
    "collapsed": false,
    "ExecuteTime": {
     "end_time": "2024-06-02T04:55:24.511351Z",
     "start_time": "2024-06-02T04:55:24.507895Z"
    }
   },
   "id": "ec3fb204c74381dc",
   "execution_count": 31
  }
 ],
 "metadata": {
  "kernelspec": {
   "display_name": "Python 3",
   "language": "python",
   "name": "python3"
  },
  "language_info": {
   "codemirror_mode": {
    "name": "ipython",
    "version": 2
   },
   "file_extension": ".py",
   "mimetype": "text/x-python",
   "name": "python",
   "nbconvert_exporter": "python",
   "pygments_lexer": "ipython2",
   "version": "2.7.6"
  }
 },
 "nbformat": 4,
 "nbformat_minor": 5
}
