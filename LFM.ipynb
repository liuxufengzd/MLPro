{
 "cells": [
  {
   "cell_type": "markdown",
   "source": [
    "# Latent Factor Model(LFM) Gradient Descent"
   ],
   "metadata": {
    "collapsed": false
   },
   "id": "aa205ff5a3c501d2"
  },
  {
   "cell_type": "code",
   "outputs": [],
   "source": [
    "import numpy as np\n",
    "\n",
    "\"\"\"\n",
    "@输入参数：\n",
    "R：U*I 的评分矩阵\n",
    "K：隐特征向量维度数量\n",
    "max_iter: 最大迭代次数\n",
    "alpha：步长\n",
    "lamda：正则化系数\n",
    "\n",
    "@输出：\n",
    "分解之后的 P，Q\n",
    "P：初始化用户特征矩阵U*K\n",
    "Q：初始化物品特征矩阵I*K\n",
    "\"\"\"\n",
    "# 评分矩阵R, 0 represents no comment now\n",
    "R = np.array([[4, 0, 2, 0, 1],\n",
    "              [0, 2, 3, 0, 0],\n",
    "              [1, 0, 2, 4, 0],\n",
    "              [5, 0, 0, 3, 1],\n",
    "              [0, 0, 1, 5, 1],\n",
    "              [0, 3, 2, 4, 1]])\n",
    "K = 5\n",
    "max_iter = 5000\n",
    "alpha = 0.0002\n",
    "lamda = 0.004"
   ],
   "metadata": {
    "collapsed": false,
    "ExecuteTime": {
     "end_time": "2024-06-02T12:37:04.565733Z",
     "start_time": "2024-06-02T12:37:04.562603Z"
    }
   },
   "id": "6cdfc4368bef1a0d",
   "execution_count": 43
  },
  {
   "cell_type": "code",
   "outputs": [],
   "source": [
    "class Model:\n",
    "    def __init__(self, max_iter, K, alpha, lamda):\n",
    "        self.max_iter = max_iter\n",
    "        self.K = K\n",
    "        self.alpha = alpha\n",
    "        self.lamda = lamda\n",
    "        self.R = None\n",
    "        self.cost = None\n",
    "\n",
    "    def fit(self, R):\n",
    "        # Define initial Pu and Qi\n",
    "        U, I = R.shape[0], R.shape[1]\n",
    "        P = np.random.rand(K, U)\n",
    "        Q = np.random.rand(K, I)\n",
    "        for _ in range(max_iter):\n",
    "            for u in range(U):\n",
    "                for i in range(I):\n",
    "                    if R[u, i] > 0:\n",
    "                        for k in range(K):\n",
    "                            P[k, u] -= alpha * (2 * (P[:, u].T.dot(Q[:, i]) - R[u, i]) * Q[k, i] + 2 * lamda * P[k, u])\n",
    "                            Q[k, i] -= alpha * (2 * (P[:, u].T.dot(Q[:, i]) - R[u, i]) * P[k, u] + 2 * lamda * Q[k, i])\n",
    "            self.R = P.T.dot(Q)\n",
    "            cost = 0\n",
    "            for u in range(U):\n",
    "                for i in range(I):\n",
    "                    if R[u, i] > 0:\n",
    "                        cost += (R[u, i] - self.R[u, i]) ** 2\n",
    "                        for k in range(K):\n",
    "                            cost += lamda * (P[k, u] ** 2 + Q[k, i] ** 2)\n",
    "            self.cost = cost\n",
    "            if cost < 0.0001:\n",
    "                break\n",
    "\n",
    "    def predict(self, u, i):\n",
    "        return self.R[u, i]"
   ],
   "metadata": {
    "collapsed": false,
    "ExecuteTime": {
     "end_time": "2024-06-02T12:44:51.799220Z",
     "start_time": "2024-06-02T12:44:51.794329Z"
    }
   },
   "id": "79e587ed34f77ee2",
   "execution_count": 54
  },
  {
   "cell_type": "code",
   "outputs": [
    {
     "name": "stdout",
     "output_type": "stream",
     "text": [
      "0.636830957374874\n",
      "[[4 0 2 0 1]\n",
      " [0 2 3 0 0]\n",
      " [1 0 2 4 0]\n",
      " [5 0 0 3 1]\n",
      " [0 0 1 5 1]\n",
      " [0 3 2 4 1]]\n",
      "[[3.94429859 2.85394241 2.11061946 4.53072925 0.95074413]\n",
      " [3.69596941 2.04322939 2.94335563 4.9471674  0.89976971]\n",
      " [1.04907149 1.69177091 1.85915096 4.02075158 0.58675171]\n",
      " [5.01053997 2.5417138  1.94696386 2.9805083  1.00811738]\n",
      " [2.05469811 2.86351048 1.16106149 4.91045894 1.05125539]\n",
      " [3.22002781 2.91942196 1.88983194 4.07846935 0.99914578]]\n"
     ]
    }
   ],
   "source": [
    "model = Model(max_iter, K, alpha, lamda)\n",
    "model.fit(R)\n",
    "print(model.cost)\n",
    "print(R)\n",
    "print(model.R)"
   ],
   "metadata": {
    "collapsed": false,
    "ExecuteTime": {
     "end_time": "2024-06-02T12:44:54.797332Z",
     "start_time": "2024-06-02T12:44:53.434748Z"
    }
   },
   "id": "a8d7bf73f6b4a2bd",
   "execution_count": 55
  },
  {
   "cell_type": "code",
   "outputs": [
    {
     "name": "stdout",
     "output_type": "stream",
     "text": [
      "2.8539424072767114\n"
     ]
    }
   ],
   "source": [
    "print(model.predict(0, 1))"
   ],
   "metadata": {
    "collapsed": false,
    "ExecuteTime": {
     "end_time": "2024-06-02T12:44:56.908983Z",
     "start_time": "2024-06-02T12:44:56.906827Z"
    }
   },
   "id": "2dcdb2e33e9ffa7b",
   "execution_count": 56
  }
 ],
 "metadata": {
  "kernelspec": {
   "display_name": "Python 3",
   "language": "python",
   "name": "python3"
  },
  "language_info": {
   "codemirror_mode": {
    "name": "ipython",
    "version": 2
   },
   "file_extension": ".py",
   "mimetype": "text/x-python",
   "name": "python",
   "nbconvert_exporter": "python",
   "pygments_lexer": "ipython2",
   "version": "2.7.6"
  }
 },
 "nbformat": 4,
 "nbformat_minor": 5
}
