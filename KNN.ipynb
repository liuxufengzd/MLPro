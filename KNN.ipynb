{
 "cells": [
  {
   "cell_type": "code",
   "execution_count": 20,
   "id": "initial_id",
   "metadata": {
    "collapsed": true,
    "ExecuteTime": {
     "end_time": "2024-05-19T11:34:37.691063Z",
     "start_time": "2024-05-19T11:34:37.687794Z"
    }
   },
   "outputs": [],
   "source": [
    "import numpy as np\n",
    "# 这里直接引入sklearn里的数据集，iris鸢尾花\n",
    "from sklearn.datasets import load_iris\n",
    "from sklearn.model_selection import train_test_split  # 切分数据集为训练集和测试集\n",
    "from sklearn.metrics import accuracy_score  # 计算分类预测的准确率"
   ]
  },
  {
   "cell_type": "code",
   "outputs": [
    {
     "name": "stdout",
     "output_type": "stream",
     "text": [
      "     sepal length (cm)  sepal width (cm)  petal length (cm)  petal width (cm)  \\\n",
      "0                  5.1               3.5                1.4               0.2   \n",
      "1                  4.9               3.0                1.4               0.2   \n",
      "2                  4.7               3.2                1.3               0.2   \n",
      "3                  4.6               3.1                1.5               0.2   \n",
      "4                  5.0               3.6                1.4               0.2   \n",
      "..                 ...               ...                ...               ...   \n",
      "145                6.7               3.0                5.2               2.3   \n",
      "146                6.3               2.5                5.0               1.9   \n",
      "147                6.5               3.0                5.2               2.0   \n",
      "148                6.2               3.4                5.4               2.3   \n",
      "149                5.9               3.0                5.1               1.8   \n",
      "\n",
      "         class  \n",
      "0       setosa  \n",
      "1       setosa  \n",
      "2       setosa  \n",
      "3       setosa  \n",
      "4       setosa  \n",
      "..         ...  \n",
      "145  virginica  \n",
      "146  virginica  \n",
      "147  virginica  \n",
      "148  virginica  \n",
      "149  virginica  \n",
      "\n",
      "[150 rows x 5 columns]\n"
     ]
    }
   ],
   "source": [
    "from pandas import DataFrame\n",
    "\n",
    "# Prepare source and transform to be trained and tested by the model\n",
    "iris = load_iris()\n",
    "source = DataFrame(data=iris.data, columns=iris.feature_names)\n",
    "source[\"class\"] = iris.target\n",
    "source[\"class\"] = source[\"class\"].map({0: iris.target_names[0], 1: iris.target_names[1], 2: iris.target_names[2]})\n",
    "print(source)"
   ],
   "metadata": {
    "collapsed": false,
    "ExecuteTime": {
     "end_time": "2024-05-19T11:34:37.706737Z",
     "start_time": "2024-05-19T11:34:37.693101Z"
    }
   },
   "id": "c44899d957cc6fe8",
   "execution_count": 21
  },
  {
   "cell_type": "code",
   "outputs": [
    {
     "name": "stdout",
     "output_type": "stream",
     "text": [
      "(150, 4) (150, 1)\n"
     ]
    }
   ],
   "source": [
    "# Split the source into train dataset and test dataset\n",
    "x, y = iris.data, iris.target.reshape(-1, 1)\n",
    "x_train, x_test, y_train, y_test = train_test_split(x, y, test_size=0.3, random_state=35, stratify=y)"
   ],
   "metadata": {
    "collapsed": false,
    "ExecuteTime": {
     "end_time": "2024-05-19T11:47:13.531506Z",
     "start_time": "2024-05-19T11:47:13.526746Z"
    }
   },
   "id": "36fa7e98055f9ec7",
   "execution_count": 35
  },
  {
   "cell_type": "code",
   "outputs": [],
   "source": [
    "def distance(A, b, method=\"l1\"):\n",
    "    return np.sum(np.abs(A - b), axis=1) if method == \"l1\" else np.sqrt(np.sum((A - b) ** 2, axis=1))\n",
    "\n",
    "\n",
    "class KNN:\n",
    "    def __init__(self, k, method=\"l2\"):\n",
    "        self.k, self.method, self.func = k, method, distance\n",
    "\n",
    "    def fit(self, train_x, train_y):\n",
    "        self.train_x, self.train_y = train_x, train_y\n",
    "\n",
    "    def predict(self, data_X):\n",
    "        y_pred = np.zeros((data_X.shape[0], 1), dtype=self.train_y.dtype)\n",
    "        for i, x in enumerate(data_X):\n",
    "            distances = self.func(self.train_x, x, self.method)\n",
    "            dis_indices = np.argsort(distances)[:self.k]\n",
    "            class_labels = self.train_y[dis_indices].ravel()\n",
    "            y_pred[i] = np.argmax(np.bincount(class_labels))\n",
    "        return y_pred"
   ],
   "metadata": {
    "collapsed": false,
    "ExecuteTime": {
     "end_time": "2024-05-19T14:02:53.027134Z",
     "start_time": "2024-05-19T14:02:53.021766Z"
    }
   },
   "id": "34e553f92c367e4e",
   "execution_count": 92
  },
  {
   "cell_type": "code",
   "outputs": [
    {
     "name": "stdout",
     "output_type": "stream",
     "text": [
      "   method  k  accuracy\n",
      "17     l2  9  0.977778\n",
      "16     l2  8  0.977778\n",
      "4      l1  5  0.977778\n",
      "15     l2  7  0.977778\n",
      "14     l2  6  0.977778\n",
      "13     l2  5  0.977778\n",
      "12     l2  4  0.955556\n",
      "3      l1  4  0.955556\n",
      "6      l1  7  0.955556\n",
      "7      l1  8  0.955556\n",
      "8      l1  9  0.955556\n",
      "0      l1  1  0.933333\n",
      "11     l2  3  0.933333\n",
      "10     l2  2  0.933333\n",
      "1      l1  2  0.933333\n",
      "5      l1  6  0.933333\n",
      "2      l1  3  0.933333\n",
      "9      l2  1  0.933333\n"
     ]
    }
   ],
   "source": [
    "# Test\n",
    "result = []\n",
    "for method in [\"l1\", \"l2\"]:\n",
    "    for k in range(1, 10):\n",
    "        model = KNN(k, method)\n",
    "        model.fit(x_train, y_train)\n",
    "        y_pred = model.predict(x_test)\n",
    "        result.append([method, k, accuracy_score(y_test, y_pred)])\n",
    "res = DataFrame(result, columns=[\"method\", \"k\", \"accuracy\"]).sort_values(by=\"accuracy\", ascending=False)\n",
    "print(res)"
   ],
   "metadata": {
    "collapsed": false,
    "ExecuteTime": {
     "end_time": "2024-05-19T14:02:54.495583Z",
     "start_time": "2024-05-19T14:02:54.472195Z"
    }
   },
   "id": "afbb210bfb955c38",
   "execution_count": 93
  }
 ],
 "metadata": {
  "kernelspec": {
   "display_name": "Python 3",
   "language": "python",
   "name": "python3"
  },
  "language_info": {
   "codemirror_mode": {
    "name": "ipython",
    "version": 2
   },
   "file_extension": ".py",
   "mimetype": "text/x-python",
   "name": "python",
   "nbconvert_exporter": "python",
   "pygments_lexer": "ipython2",
   "version": "2.7.6"
  }
 },
 "nbformat": 4,
 "nbformat_minor": 5
}
